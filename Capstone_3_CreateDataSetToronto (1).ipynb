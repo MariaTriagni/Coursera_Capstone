{
  "nbformat": 4,
  "nbformat_minor": 0,
  "metadata": {
    "kernelspec": {
      "name": "python3",
      "display_name": "Python 3.6",
      "language": "python"
    },
    "language_info": {
      "name": "python",
      "version": "3.6.9",
      "mimetype": "text/x-python",
      "codemirror_mode": {
        "name": "ipython",
        "version": 3
      },
      "pygments_lexer": "ipython3",
      "nbconvert_exporter": "python",
      "file_extension": ".py"
    },
    "colab": {
      "name": "Capstone_3_CreateDataSetToronto.ipynb",
      "provenance": [],
      "collapsed_sections": []
    }
  },
  "cells": [
    {
      "cell_type": "markdown",
      "metadata": {
        "collapsed": true,
        "id": "0TwJ8z8fOT4d",
        "colab_type": "text"
      },
      "source": [
        "# Getting Dataset of Toronto"
      ]
    },
    {
      "cell_type": "markdown",
      "metadata": {
        "id": "Pi2BiAU-OT4f",
        "colab_type": "text"
      },
      "source": [
        "This notebook is intended for Capstone project week 3. \n",
        "In this assignment, we will collect data of Toronto city which has Postal Code, Borough, Neighborhood, Latitude , and Longitude. First, to get the postal cod, borough, we will get the list from wikipedia Toronto ( https://en.wikipedia.org/wiki/List_of_postal_codes_of_Canada:_M ) . We will copy the list of postal code manually and save it in csv file (Toronto.csv) . After that, we will get the latitude and longitude for each neighborhood."
      ]
    },
    {
      "cell_type": "markdown",
      "metadata": {
        "id": "GweIbYnvOT4g",
        "colab_type": "text"
      },
      "source": [
        "Before we download the data and start exploring it, let's download some dependencies needed by this notebook"
      ]
    },
    {
      "cell_type": "code",
      "metadata": {
        "scrolled": true,
        "id": "JMlgHLfAOT4h",
        "colab_type": "code",
        "outputId": "0aaa8bb9-6e78-4cf9-8600-9484225f3fec",
        "colab": {
          "base_uri": "https://localhost:8080/",
          "height": 51
        }
      },
      "source": [
        "import numpy as np # library to handle data in a vectorized manner\n",
        "\n",
        "import pandas as pd # library for data analsysis\n",
        "pd.set_option('display.max_columns', None)\n",
        "pd.set_option('display.max_rows', None)\n",
        "\n",
        "import json # library to handle JSON files\n",
        "\n",
        "#!conda install -c conda-forge geopy --yes # uncomment this line if you haven't completed the Foursquare API lab\n",
        "from geopy.geocoders import Nominatim # convert an address into latitude and longitude values\n",
        "\n",
        "import requests # library to handle requests\n",
        "from pandas.io.json import json_normalize # tranform JSON file into a pandas dataframe\n",
        "\n",
        "# Matplotlib and associated plotting modules\n",
        "import matplotlib.cm as cm\n",
        "import matplotlib.colors as colors\n",
        "\n",
        "# import k-means from clustering stage\n",
        "from sklearn.cluster import KMeans\n",
        "\n",
        "!conda install -c conda-forge folium=0.5.0 --yes # uncomment this line if you haven't completed the Foursquare API lab\n",
        "import folium # map rendering library\n",
        "\n",
        "print('Libraries imported.')"
      ],
      "execution_count": 0,
      "outputs": [
        {
          "output_type": "stream",
          "text": [
            "/bin/bash: conda: command not found\n",
            "Libraries imported.\n"
          ],
          "name": "stdout"
        }
      ]
    },
    {
      "cell_type": "markdown",
      "metadata": {
        "id": "cGg3ZzEpOT4l",
        "colab_type": "text"
      },
      "source": [
        "## 1. Download and Explore Dataset"
      ]
    },
    {
      "cell_type": "markdown",
      "metadata": {
        "id": "vT7JQ4hIOT4m",
        "colab_type": "text"
      },
      "source": [
        "First, we need a dataset file that contain Toronto neighbourhood (Toronto_Neigbourhood_Coordinate.csv) with fields as follow : Postal Code (PostCode), Borough, Neighbourhood, Latitude, Longitude .\n",
        "If we run this notebook for the first time, we won't be able to find that file and this notebook will create that file with thise steps :\n",
        "*   Get the list of postal code in Toronto from https://en.wikipedia.org/wiki/List_of_postal_codes_of_Canada:_M . We copy the list of postal code manually and save it in csv file (Toronto.csv), and upload it as asset so this notebook can access it. This file will contain attribute as follow : Postal Code (PostCode), Borough, Neighbourhood.\n",
        "*   Load Toronto neighbourhood data from Toronto.csv to dataframe (df_Toronto)\n",
        "*   Loop for each neighbourhood in df_Toronto and get each neighbourhood latitude and longitude using geopy.geocoders . After it finish looping, dataframe df_Toronto will contain attributes as follow : Postal Code (PostCode), Borough, Neighbourhood, latitude, longitude\n",
        "*   Save the dataframe to csv file (Toronto_Neighbourhood_Coordinate.csv)\n",
        "\n",
        "After this notebook is run for the first time, we will have a ready dataset that contains all attribute that needed in this notebook to be analyzed. So in the second time this notebook is run, it just need to read Toronto_Neighbourhood_Coordinate.csv to load those data into dataframe"
      ]
    },
    {
      "cell_type": "markdown",
      "metadata": {
        "id": "4ZoL3zzhsBi8",
        "colab_type": "text"
      },
      "source": [
        "### 1.1. Prepare dataset  "
      ]
    },
    {
      "cell_type": "code",
      "metadata": {
        "id": "0lhfJvl4OT4n",
        "colab_type": "code",
        "colab": {}
      },
      "source": [
        "isTorontoNeighbourghoodCoordFileExists = True #refer to Toronto_Neighbourhood_Coordinate.csv. If it exists, change manually to 'False'. If it doesn't exists, change manually to 'True'\n",
        "\n",
        "#if isTorontoNeighbourghoodCoordFileExists = False, set isRunInIBMWatson or isRunInGoogleColab\n",
        "isRunInIBMWatson = False #if this notebook run in IBM Watson, change manually to 'True'. If it doesn't run in IBM Watson, change manually to 'False' . If it run in IBM Watson, it will need additional script to read/write csv as asset\n",
        "isRunInGoogleColab = True #if this notebook run in Google Colab, change manually to 'True'. If it doesn't run in Google Colab, change manually to 'False' . If it run in IBM Watson, it will need additional script to read/write csv as asset\n",
        "\n",
        "#if isTorontoNeighbourghoodCoordFileExists = True, get the csv from github Maria Triagni and set isReadCsvFromGithub to True\n",
        "isReadCsvFromGithub = True #if Toronto_Neighbourhood_Coordinate.csv exits in Maria Triagni's github, change manually to 'True'. If it doesn't exists, change mannually to 'False'\n",
        "\n",
        "torontoFile = \"Toronto.csv\"\n",
        "torontoNeighbourghoodCoordFile = \"Toronto_Neighbourhood_Coordinates.csv\"\n"
      ],
      "execution_count": 0,
      "outputs": []
    },
    {
      "cell_type": "markdown",
      "metadata": {
        "id": "-Cn97fpZXWYT",
        "colab_type": "text"
      },
      "source": [
        "#### 1.1.1. If we run using IBM Watson and toronto.csv is in asset"
      ]
    },
    {
      "cell_type": "code",
      "metadata": {
        "id": "Uk3qmV64OT4p",
        "colab_type": "code",
        "outputId": "a1d7c91a-c20d-4b63-9d9f-de48735b38d8",
        "colab": {
          "base_uri": "https://localhost:8080/",
          "height": 34
        }
      },
      "source": [
        "if ( (isTorontoNeighbourghoodCoordFileExists != True ) and (isRunInIBMWatson == True)) :\n",
        "  import types\n",
        "  import pandas as pd\n",
        "  from botocore.client import Config\n",
        "  import ibm_boto3\n",
        "\n",
        "  def __iter__(self): return 0\n",
        "\n",
        "  # @hidden_cell\n",
        "  # The following code accesses a file in your IBM Cloud Object Storage. It includes your credentials.\n",
        "  # You might want to remove those credentials before you share the notebook.\n",
        "  client_c8e4850bd8dc439d8772288cbd371cd8 = ibm_boto3.client(service_name='s3',\n",
        "      ibm_api_key_id='wmyv12NJK8swbJlynpLN0_WSnpZSQ6nrEmJPY5dbEOkh',\n",
        "      ibm_auth_endpoint=\"https://iam.ng.bluemix.net/oidc/token\",\n",
        "      config=Config(signature_version='oauth'),\n",
        "      endpoint_url='https://s3-api.us-geo.objectstorage.service.networklayer.com')\n",
        "\n",
        "  bucket_id = 'phytonbasicfords-donotdelete-pr-ksk41itkqmstbb'\n",
        "\n",
        "  body = client_c8e4850bd8dc439d8772288cbd371cd8.get_object(Bucket=bucket_id,Key=torontoFile)['Body']\n",
        "  # add missing __iter__ method, so pandas accepts body as file-like object\n",
        "  if not hasattr(body, \"__iter__\"): body.__iter__ = types.MethodType( __iter__, body )\n",
        "      \n",
        "  df_Toronto = pd.read_csv(body)\n",
        "  df_Toronto.head()\n",
        "\n",
        "print('Finish')"
      ],
      "execution_count": 0,
      "outputs": [
        {
          "output_type": "stream",
          "text": [
            "Finish\n"
          ],
          "name": "stdout"
        }
      ]
    },
    {
      "cell_type": "markdown",
      "metadata": {
        "id": "6ENnjLFuXya-",
        "colab_type": "text"
      },
      "source": [
        "#### 1.1.2. If we run using Google Colab and toronto.csv is in github"
      ]
    },
    {
      "cell_type": "code",
      "metadata": {
        "id": "voKQjGxVk-kX",
        "colab_type": "code",
        "outputId": "b4319cd6-516e-4398-b7e5-67ae8b53d598",
        "colab": {
          "base_uri": "https://localhost:8080/",
          "height": 221
        }
      },
      "source": [
        "if ( (isTorontoNeighbourghoodCoordFileExists != True ) and (isReadCsvFromGithub == True)) :\n",
        "  import pandas as pd \n",
        "\n",
        "  url = \"https://raw.githubusercontent.com/MariaTriagni/Data/master/\" + torontoFile\n",
        "  print(url)\n",
        "  df_Toronto = pd.read_csv(url) \n",
        "\n",
        "df_Toronto.head() "
      ],
      "execution_count": 0,
      "outputs": [
        {
          "output_type": "stream",
          "text": [
            "https://raw.githubusercontent.com/MariaTriagni/Data/master/Toronto.csv\n"
          ],
          "name": "stdout"
        },
        {
          "output_type": "execute_result",
          "data": {
            "text/html": [
              "<div>\n",
              "<style scoped>\n",
              "    .dataframe tbody tr th:only-of-type {\n",
              "        vertical-align: middle;\n",
              "    }\n",
              "\n",
              "    .dataframe tbody tr th {\n",
              "        vertical-align: top;\n",
              "    }\n",
              "\n",
              "    .dataframe thead th {\n",
              "        text-align: right;\n",
              "    }\n",
              "</style>\n",
              "<table border=\"1\" class=\"dataframe\">\n",
              "  <thead>\n",
              "    <tr style=\"text-align: right;\">\n",
              "      <th></th>\n",
              "      <th>Postcode</th>\n",
              "      <th>Borough</th>\n",
              "      <th>Neighbourhood</th>\n",
              "    </tr>\n",
              "  </thead>\n",
              "  <tbody>\n",
              "    <tr>\n",
              "      <th>0</th>\n",
              "      <td>M5R</td>\n",
              "      <td>Central Toronto</td>\n",
              "      <td>Yorkville</td>\n",
              "    </tr>\n",
              "    <tr>\n",
              "      <th>1</th>\n",
              "      <td>M3J</td>\n",
              "      <td>North York</td>\n",
              "      <td>York University</td>\n",
              "    </tr>\n",
              "    <tr>\n",
              "      <th>2</th>\n",
              "      <td>M2P</td>\n",
              "      <td>North York</td>\n",
              "      <td>York Mills West</td>\n",
              "    </tr>\n",
              "    <tr>\n",
              "      <th>3</th>\n",
              "      <td>M2L</td>\n",
              "      <td>North York</td>\n",
              "      <td>York Mills</td>\n",
              "    </tr>\n",
              "    <tr>\n",
              "      <th>4</th>\n",
              "      <td>M4C</td>\n",
              "      <td>East York</td>\n",
              "      <td>Woodbine Heights</td>\n",
              "    </tr>\n",
              "  </tbody>\n",
              "</table>\n",
              "</div>"
            ],
            "text/plain": [
              "  Postcode          Borough     Neighbourhood\n",
              "0      M5R  Central Toronto         Yorkville\n",
              "1      M3J       North York   York University\n",
              "2      M2P       North York   York Mills West\n",
              "3      M2L       North York        York Mills\n",
              "4      M4C        East York  Woodbine Heights"
            ]
          },
          "metadata": {
            "tags": []
          },
          "execution_count": 36
        }
      ]
    },
    {
      "cell_type": "markdown",
      "metadata": {
        "id": "mT27BPy5X-UQ",
        "colab_type": "text"
      },
      "source": [
        "#### 1.1.3. Create latitude and longitude for each neighborhood"
      ]
    },
    {
      "cell_type": "code",
      "metadata": {
        "scrolled": false,
        "id": "9-sE024WOT4y",
        "colab_type": "code",
        "outputId": "6ad535ea-a0a4-44cb-d116-68301a0f2030",
        "colab": {
          "base_uri": "https://localhost:8080/",
          "height": 204
        }
      },
      "source": [
        "if (isTorontoNeighbourghoodCoordFileExists != True ) :\n",
        "  #add latitude and longitude column\n",
        "  df_Toronto['latitude']=0.0\n",
        "  df_Toronto['longitude']=0.0\n",
        "\n",
        "df_Toronto.head()"
      ],
      "execution_count": 0,
      "outputs": [
        {
          "output_type": "execute_result",
          "data": {
            "text/html": [
              "<div>\n",
              "<style scoped>\n",
              "    .dataframe tbody tr th:only-of-type {\n",
              "        vertical-align: middle;\n",
              "    }\n",
              "\n",
              "    .dataframe tbody tr th {\n",
              "        vertical-align: top;\n",
              "    }\n",
              "\n",
              "    .dataframe thead th {\n",
              "        text-align: right;\n",
              "    }\n",
              "</style>\n",
              "<table border=\"1\" class=\"dataframe\">\n",
              "  <thead>\n",
              "    <tr style=\"text-align: right;\">\n",
              "      <th></th>\n",
              "      <th>Postcode</th>\n",
              "      <th>Borough</th>\n",
              "      <th>Neighbourhood</th>\n",
              "      <th>latitude</th>\n",
              "      <th>longitude</th>\n",
              "    </tr>\n",
              "  </thead>\n",
              "  <tbody>\n",
              "    <tr>\n",
              "      <th>0</th>\n",
              "      <td>M5R</td>\n",
              "      <td>Central Toronto</td>\n",
              "      <td>Yorkville</td>\n",
              "      <td>0.0</td>\n",
              "      <td>0.0</td>\n",
              "    </tr>\n",
              "    <tr>\n",
              "      <th>1</th>\n",
              "      <td>M3J</td>\n",
              "      <td>North York</td>\n",
              "      <td>York University</td>\n",
              "      <td>0.0</td>\n",
              "      <td>0.0</td>\n",
              "    </tr>\n",
              "    <tr>\n",
              "      <th>2</th>\n",
              "      <td>M2P</td>\n",
              "      <td>North York</td>\n",
              "      <td>York Mills West</td>\n",
              "      <td>0.0</td>\n",
              "      <td>0.0</td>\n",
              "    </tr>\n",
              "    <tr>\n",
              "      <th>3</th>\n",
              "      <td>M2L</td>\n",
              "      <td>North York</td>\n",
              "      <td>York Mills</td>\n",
              "      <td>0.0</td>\n",
              "      <td>0.0</td>\n",
              "    </tr>\n",
              "    <tr>\n",
              "      <th>4</th>\n",
              "      <td>M4C</td>\n",
              "      <td>East York</td>\n",
              "      <td>Woodbine Heights</td>\n",
              "      <td>0.0</td>\n",
              "      <td>0.0</td>\n",
              "    </tr>\n",
              "  </tbody>\n",
              "</table>\n",
              "</div>"
            ],
            "text/plain": [
              "  Postcode          Borough     Neighbourhood  latitude  longitude\n",
              "0      M5R  Central Toronto         Yorkville       0.0        0.0\n",
              "1      M3J       North York   York University       0.0        0.0\n",
              "2      M2P       North York   York Mills West       0.0        0.0\n",
              "3      M2L       North York        York Mills       0.0        0.0\n",
              "4      M4C        East York  Woodbine Heights       0.0        0.0"
            ]
          },
          "metadata": {
            "tags": []
          },
          "execution_count": 38
        }
      ]
    },
    {
      "cell_type": "code",
      "metadata": {
        "scrolled": true,
        "id": "8C0nrFUZOT40",
        "colab_type": "code",
        "outputId": "4c6a9b5f-6ae5-499b-db32-a9e34f74d3a1",
        "colab": {
          "base_uri": "https://localhost:8080/",
          "height": 238
        }
      },
      "source": [
        "#loop for each neighborhood to get latitude and longitude\n",
        "if (isTorontoNeighbourghoodCoordFileExists != True ) :\n",
        "\n",
        "  from geopy.geocoders import Nominatim\n",
        "\n",
        "  geolocator = Nominatim(user_agent=\"coursera_exam\")\n",
        "\n",
        "  for index, row in df_Toronto.iterrows():\n",
        "    #if index > 284:\n",
        "        location = geolocator.geocode(\"{}, Toronto, Ontario\".format(row['Neighbourhood']))\n",
        "        \n",
        "        if type(location) != type(None):\n",
        "            df_Toronto.at[index,'latitude'] = location.latitude\n",
        "            df_Toronto.at[index,'longitude'] = location.longitude \n",
        "        print (\"{},{},{},{},{},{}\".format( index, row['Postcode'] , row['Borough'] , row['Neighbourhood'], df_Toronto.at[index,'latitude'], df_Toronto.at[index,'longitude']  ))\n",
        "        \n",
        "df_Toronto.head()"
      ],
      "execution_count": 0,
      "outputs": [
        {
          "output_type": "stream",
          "text": [
            "285,M1S,Scarborough,Agincourt,43.7853531,-79.2785494\n",
            "286,M5H,Downtown Toronto,Adelaide,43.65082325,-79.37793584643234\n"
          ],
          "name": "stdout"
        },
        {
          "output_type": "execute_result",
          "data": {
            "text/html": [
              "<div>\n",
              "<style scoped>\n",
              "    .dataframe tbody tr th:only-of-type {\n",
              "        vertical-align: middle;\n",
              "    }\n",
              "\n",
              "    .dataframe tbody tr th {\n",
              "        vertical-align: top;\n",
              "    }\n",
              "\n",
              "    .dataframe thead th {\n",
              "        text-align: right;\n",
              "    }\n",
              "</style>\n",
              "<table border=\"1\" class=\"dataframe\">\n",
              "  <thead>\n",
              "    <tr style=\"text-align: right;\">\n",
              "      <th></th>\n",
              "      <th>Postcode</th>\n",
              "      <th>Borough</th>\n",
              "      <th>Neighbourhood</th>\n",
              "      <th>latitude</th>\n",
              "      <th>longitude</th>\n",
              "    </tr>\n",
              "  </thead>\n",
              "  <tbody>\n",
              "    <tr>\n",
              "      <th>0</th>\n",
              "      <td>M5R</td>\n",
              "      <td>Central Toronto</td>\n",
              "      <td>Yorkville</td>\n",
              "      <td>43.671386</td>\n",
              "      <td>-79.390168</td>\n",
              "    </tr>\n",
              "    <tr>\n",
              "      <th>1</th>\n",
              "      <td>M3J</td>\n",
              "      <td>North York</td>\n",
              "      <td>York University</td>\n",
              "      <td>43.779242</td>\n",
              "      <td>-79.483559</td>\n",
              "    </tr>\n",
              "    <tr>\n",
              "      <th>2</th>\n",
              "      <td>M2P</td>\n",
              "      <td>North York</td>\n",
              "      <td>York Mills West</td>\n",
              "      <td>43.744039</td>\n",
              "      <td>-79.406657</td>\n",
              "    </tr>\n",
              "    <tr>\n",
              "      <th>3</th>\n",
              "      <td>M2L</td>\n",
              "      <td>North York</td>\n",
              "      <td>York Mills</td>\n",
              "      <td>43.744039</td>\n",
              "      <td>-79.406657</td>\n",
              "    </tr>\n",
              "    <tr>\n",
              "      <th>4</th>\n",
              "      <td>M4C</td>\n",
              "      <td>East York</td>\n",
              "      <td>Woodbine Heights</td>\n",
              "      <td>43.699930</td>\n",
              "      <td>-79.319132</td>\n",
              "    </tr>\n",
              "  </tbody>\n",
              "</table>\n",
              "</div>"
            ],
            "text/plain": [
              "  Postcode          Borough     Neighbourhood   latitude  longitude\n",
              "0      M5R  Central Toronto         Yorkville  43.671386 -79.390168\n",
              "1      M3J       North York   York University  43.779242 -79.483559\n",
              "2      M2P       North York   York Mills West  43.744039 -79.406657\n",
              "3      M2L       North York        York Mills  43.744039 -79.406657\n",
              "4      M4C        East York  Woodbine Heights  43.699930 -79.319132"
            ]
          },
          "metadata": {
            "tags": []
          },
          "execution_count": 54
        }
      ]
    },
    {
      "cell_type": "markdown",
      "metadata": {
        "id": "wezH-fPvYif9",
        "colab_type": "text"
      },
      "source": [
        "#### 1.1.4. Save the dataset to file Toronto_Neighbourhood_Coordinates.csv"
      ]
    },
    {
      "cell_type": "code",
      "metadata": {
        "id": "Fqd7sekdOT46",
        "colab_type": "code",
        "outputId": "cb7f6afe-89da-49d3-ddba-0317bbe7ba71",
        "colab": {}
      },
      "source": [
        "\n",
        "#This one doesn't work, so I will comment this\n",
        "#df_postalcode.to_csv(outputFile, encoding=\"utf-8\")\n",
        "#with open(outputFile, 'rb') as data:\n",
        "#     client_c8e4850bd8dc439d8772288cbd371cd8.upload_fileobj(data,  bucket_id, outputFile)\n",
        "        \n",
        "#print('finish')"
      ],
      "execution_count": 0,
      "outputs": [
        {
          "output_type": "stream",
          "text": [
            "finish\n"
          ],
          "name": "stdout"
        }
      ]
    },
    {
      "cell_type": "code",
      "metadata": {
        "id": "OZzkCyiDOT49",
        "colab_type": "code",
        "outputId": "160ae4dc-7499-4ff3-dde7-826a432adafd",
        "colab": {}
      },
      "source": [
        "# @hidden_cell\n",
        "#save dataframe to csv file in asset if running in IBM Watson\n",
        "if ( (isTorontoNeighbourghoodCoordFileExists != True ) and (isRunInIBMWatson == True)) :\n",
        "  from project_lib import Project\n",
        "  project = Project(project_id='539dfb05-329b-43a1-899d-d02c237b0ca3', project_access_token='p-d344efbe810a87640107d144b70e99fddc1e30f4')\n",
        "  pc = project.project_context\n",
        "  project.save_data(data=df_postalcode.to_csv(index=False),file_name=torontoNeighbourghoodCoordFile,overwrite=True)\n",
        "\n",
        "print('finish')"
      ],
      "execution_count": 0,
      "outputs": [
        {
          "output_type": "stream",
          "text": [
            "finish\n"
          ],
          "name": "stdout"
        }
      ]
    },
    {
      "cell_type": "code",
      "metadata": {
        "id": "_V_tmJj2t-vC",
        "colab_type": "code",
        "colab": {}
      },
      "source": [
        "#save dataframe to csv file in google drive if running in Google Colab \n",
        "if ( (isTorontoNeighbourghoodCoordFileExists != True ) and (isRunInGoogleColab == True)) :\n",
        "  from google.colab import drive\n",
        "  drive.mount('drive')\n",
        "  data.to_csv(torontoNeighbourghoodCoordFile)\n",
        "  !cp test.csv \"drive/My Drive/Colab Notebooks\""
      ],
      "execution_count": 0,
      "outputs": []
    },
    {
      "cell_type": "markdown",
      "metadata": {
        "id": "juYFFRaYZJbb",
        "colab_type": "text"
      },
      "source": [
        "Download the file Toronto_Neighbourhood_Coordinates.csv manually and we save it to github with account 'MariaTriagni' . Next time we need that dataset, we just need to read it from github with url : https://github.com/MariaTriagni/Data/blob/master/Toronto_Neighbourhood_Coordinates.csv"
      ]
    },
    {
      "cell_type": "markdown",
      "metadata": {
        "id": "sYlPYZoYvu9M",
        "colab_type": "text"
      },
      "source": [
        "#### 1.1.5. Read dataset from file Toronto_Neighbourhood_Coordinates.csv from github \n",
        "\n",
        "Toronto_Neighbourhood_Coordinate.csv is now available in github account 'MariaTriagni' ( https://github.com/MariaTriagni/Data/blob/master/Toronto_Neighbourhood_Coordinates.csv ) .After that, all we need to do is just upload to dataframe"
      ]
    },
    {
      "cell_type": "code",
      "metadata": {
        "id": "Wq-1mdd_R8yo",
        "colab_type": "code",
        "outputId": "c5383ca9-da44-4c96-d2d3-26c41e55ef85",
        "colab": {
          "base_uri": "https://localhost:8080/",
          "height": 221
        }
      },
      "source": [
        "#If Toronto_Neighbourhood_Coordinate is exists already and it's available in github, load the csv from github to dataframe df_Toronto\n",
        "if ( (isTorontoNeighbourghoodCoordFileExists == True) and (isReadCsvFromGithub == True)) :\n",
        "  import pandas as pd \n",
        "\n",
        "  url = \"https://raw.githubusercontent.com/MariaTriagni/Data/master/\" + torontoNeighbourghoodCoordFile\n",
        "  print(url)\n",
        "  df_Toronto = pd.read_csv(url) \n",
        "\n",
        "df_Toronto.head() \n"
      ],
      "execution_count": 0,
      "outputs": [
        {
          "output_type": "stream",
          "text": [
            "https://raw.githubusercontent.com/MariaTriagni/Data/master/Toronto_Neighbourhood_Coordinates.csv\n"
          ],
          "name": "stdout"
        },
        {
          "output_type": "execute_result",
          "data": {
            "text/html": [
              "<div>\n",
              "<style scoped>\n",
              "    .dataframe tbody tr th:only-of-type {\n",
              "        vertical-align: middle;\n",
              "    }\n",
              "\n",
              "    .dataframe tbody tr th {\n",
              "        vertical-align: top;\n",
              "    }\n",
              "\n",
              "    .dataframe thead th {\n",
              "        text-align: right;\n",
              "    }\n",
              "</style>\n",
              "<table border=\"1\" class=\"dataframe\">\n",
              "  <thead>\n",
              "    <tr style=\"text-align: right;\">\n",
              "      <th></th>\n",
              "      <th>Postcode</th>\n",
              "      <th>Borough</th>\n",
              "      <th>Neighbourhood</th>\n",
              "      <th>latitude</th>\n",
              "      <th>longitude</th>\n",
              "    </tr>\n",
              "  </thead>\n",
              "  <tbody>\n",
              "    <tr>\n",
              "      <th>0</th>\n",
              "      <td>M5R</td>\n",
              "      <td>Central Toronto</td>\n",
              "      <td>Yorkville</td>\n",
              "      <td>43.671386</td>\n",
              "      <td>-79.390168</td>\n",
              "    </tr>\n",
              "    <tr>\n",
              "      <th>1</th>\n",
              "      <td>M3J</td>\n",
              "      <td>North York</td>\n",
              "      <td>York University</td>\n",
              "      <td>43.779242</td>\n",
              "      <td>-79.483559</td>\n",
              "    </tr>\n",
              "    <tr>\n",
              "      <th>2</th>\n",
              "      <td>M2P</td>\n",
              "      <td>North York</td>\n",
              "      <td>York Mills West</td>\n",
              "      <td>43.744039</td>\n",
              "      <td>-79.406657</td>\n",
              "    </tr>\n",
              "    <tr>\n",
              "      <th>3</th>\n",
              "      <td>M2L</td>\n",
              "      <td>North York</td>\n",
              "      <td>York Mills</td>\n",
              "      <td>43.744039</td>\n",
              "      <td>-79.406657</td>\n",
              "    </tr>\n",
              "    <tr>\n",
              "      <th>4</th>\n",
              "      <td>M4C</td>\n",
              "      <td>East York</td>\n",
              "      <td>Woodbine Heights</td>\n",
              "      <td>43.699930</td>\n",
              "      <td>-79.319132</td>\n",
              "    </tr>\n",
              "  </tbody>\n",
              "</table>\n",
              "</div>"
            ],
            "text/plain": [
              "  Postcode          Borough     Neighbourhood   latitude  longitude\n",
              "0      M5R  Central Toronto         Yorkville  43.671386 -79.390168\n",
              "1      M3J       North York   York University  43.779242 -79.483559\n",
              "2      M2P       North York   York Mills West  43.744039 -79.406657\n",
              "3      M2L       North York        York Mills  43.744039 -79.406657\n",
              "4      M4C        East York  Woodbine Heights  43.699930 -79.319132"
            ]
          },
          "metadata": {
            "tags": []
          },
          "execution_count": 70
        }
      ]
    },
    {
      "cell_type": "code",
      "metadata": {
        "id": "UvrQPQ4oOT5B",
        "colab_type": "code",
        "outputId": "e0ebdc6f-8549-47cb-d237-6c380d79e917",
        "colab": {
          "base_uri": "https://localhost:8080/",
          "height": 419
        }
      },
      "source": [
        "df_Toronto"
      ],
      "execution_count": 0,
      "outputs": [
        {
          "output_type": "execute_result",
          "data": {
            "text/html": [
              "<div>\n",
              "<style scoped>\n",
              "    .dataframe tbody tr th:only-of-type {\n",
              "        vertical-align: middle;\n",
              "    }\n",
              "\n",
              "    .dataframe tbody tr th {\n",
              "        vertical-align: top;\n",
              "    }\n",
              "\n",
              "    .dataframe thead th {\n",
              "        text-align: right;\n",
              "    }\n",
              "</style>\n",
              "<table border=\"1\" class=\"dataframe\">\n",
              "  <thead>\n",
              "    <tr style=\"text-align: right;\">\n",
              "      <th></th>\n",
              "      <th>Postcode</th>\n",
              "      <th>Borough</th>\n",
              "      <th>Neighbourhood</th>\n",
              "      <th>latitude</th>\n",
              "      <th>longitude</th>\n",
              "    </tr>\n",
              "  </thead>\n",
              "  <tbody>\n",
              "    <tr>\n",
              "      <th>0</th>\n",
              "      <td>M5R</td>\n",
              "      <td>Central Toronto</td>\n",
              "      <td>Yorkville</td>\n",
              "      <td>43.671386</td>\n",
              "      <td>-79.390168</td>\n",
              "    </tr>\n",
              "    <tr>\n",
              "      <th>1</th>\n",
              "      <td>M3J</td>\n",
              "      <td>North York</td>\n",
              "      <td>York University</td>\n",
              "      <td>43.779242</td>\n",
              "      <td>-79.483559</td>\n",
              "    </tr>\n",
              "    <tr>\n",
              "      <th>2</th>\n",
              "      <td>M2P</td>\n",
              "      <td>North York</td>\n",
              "      <td>York Mills West</td>\n",
              "      <td>43.744039</td>\n",
              "      <td>-79.406657</td>\n",
              "    </tr>\n",
              "    <tr>\n",
              "      <th>3</th>\n",
              "      <td>M2L</td>\n",
              "      <td>North York</td>\n",
              "      <td>York Mills</td>\n",
              "      <td>43.744039</td>\n",
              "      <td>-79.406657</td>\n",
              "    </tr>\n",
              "    <tr>\n",
              "      <th>4</th>\n",
              "      <td>M4C</td>\n",
              "      <td>East York</td>\n",
              "      <td>Woodbine Heights</td>\n",
              "      <td>43.699930</td>\n",
              "      <td>-79.319132</td>\n",
              "    </tr>\n",
              "    <tr>\n",
              "      <th>...</th>\n",
              "      <td>...</td>\n",
              "      <td>...</td>\n",
              "      <td>...</td>\n",
              "      <td>...</td>\n",
              "      <td>...</td>\n",
              "    </tr>\n",
              "    <tr>\n",
              "      <th>282</th>\n",
              "      <td>M8W</td>\n",
              "      <td>Etobicoke</td>\n",
              "      <td>Alderwood</td>\n",
              "      <td>43.601717</td>\n",
              "      <td>-79.545232</td>\n",
              "    </tr>\n",
              "    <tr>\n",
              "      <th>283</th>\n",
              "      <td>M9V</td>\n",
              "      <td>Etobicoke</td>\n",
              "      <td>Albion Gardens</td>\n",
              "      <td>43.741665</td>\n",
              "      <td>-79.584543</td>\n",
              "    </tr>\n",
              "    <tr>\n",
              "      <th>284</th>\n",
              "      <td>M1V</td>\n",
              "      <td>Scarborough</td>\n",
              "      <td>Agincourt North</td>\n",
              "      <td>43.808038</td>\n",
              "      <td>-79.266439</td>\n",
              "    </tr>\n",
              "    <tr>\n",
              "      <th>285</th>\n",
              "      <td>M1S</td>\n",
              "      <td>Scarborough</td>\n",
              "      <td>Agincourt</td>\n",
              "      <td>43.785353</td>\n",
              "      <td>-79.278549</td>\n",
              "    </tr>\n",
              "    <tr>\n",
              "      <th>286</th>\n",
              "      <td>M5H</td>\n",
              "      <td>Downtown Toronto</td>\n",
              "      <td>Adelaide</td>\n",
              "      <td>43.650823</td>\n",
              "      <td>-79.377936</td>\n",
              "    </tr>\n",
              "  </tbody>\n",
              "</table>\n",
              "<p>287 rows × 5 columns</p>\n",
              "</div>"
            ],
            "text/plain": [
              "    Postcode           Borough     Neighbourhood   latitude  longitude\n",
              "0        M5R   Central Toronto         Yorkville  43.671386 -79.390168\n",
              "1        M3J        North York   York University  43.779242 -79.483559\n",
              "2        M2P        North York   York Mills West  43.744039 -79.406657\n",
              "3        M2L        North York        York Mills  43.744039 -79.406657\n",
              "4        M4C         East York  Woodbine Heights  43.699930 -79.319132\n",
              "..       ...               ...               ...        ...        ...\n",
              "282      M8W         Etobicoke         Alderwood  43.601717 -79.545232\n",
              "283      M9V         Etobicoke    Albion Gardens  43.741665 -79.584543\n",
              "284      M1V       Scarborough   Agincourt North  43.808038 -79.266439\n",
              "285      M1S       Scarborough         Agincourt  43.785353 -79.278549\n",
              "286      M5H  Downtown Toronto          Adelaide  43.650823 -79.377936\n",
              "\n",
              "[287 rows x 5 columns]"
            ]
          },
          "metadata": {
            "tags": []
          },
          "execution_count": 71
        }
      ]
    }
  ]
}