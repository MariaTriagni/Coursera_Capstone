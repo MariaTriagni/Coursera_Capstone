{
  "nbformat": 4,
  "nbformat_minor": 0,
  "metadata": {
    "kernelspec": {
      "name": "python3",
      "display_name": "Python 3.6",
      "language": "python"
    },
    "language_info": {
      "name": "python",
      "version": "3.6.9",
      "mimetype": "text/x-python",
      "codemirror_mode": {
        "name": "ipython",
        "version": 3
      },
      "pygments_lexer": "ipython3",
      "nbconvert_exporter": "python",
      "file_extension": ".py"
    },
    "colab": {
      "name": "Capstone_3_ScrapDataSetToronto.ipynb",
      "provenance": [],
      "collapsed_sections": []
    }
  },
  "cells": [
    {
      "cell_type": "markdown",
      "metadata": {
        "collapsed": true,
        "id": "0TwJ8z8fOT4d",
        "colab_type": "text"
      },
      "source": [
        "# Web scrapping for Toronto wikipedia to create intial dataset of Toronto"
      ]
    },
    {
      "cell_type": "markdown",
      "metadata": {
        "id": "Pi2BiAU-OT4f",
        "colab_type": "text"
      },
      "source": [
        "This notebook is intended for Capstone project week 3. \n",
        "In this assignment, we will collect data of Toronto city which has Postal Code, Borough, Neighborhood . We will pulling out the data from Toronto's wikipedia ( https://en.wikipedia.org/wiki/List_of_postal_codes_of_Canada:_M ) using BeautifulSoup to read and parse Toronto's wikipedia and save the list in csv file (Toronto.csv) .  "
      ]
    },
    {
      "cell_type": "code",
      "metadata": {
        "id": "qrEr768TcTFT",
        "colab_type": "code",
        "colab": {}
      },
      "source": [
        "# function to return key for any value \n",
        "def get_key(val, my_dict): \n",
        "    for key, value in my_dict.items(): \n",
        "      if key == val: \n",
        "             return key \n",
        "  \n",
        "    return \"key doesn't exist\""
      ],
      "execution_count": 0,
      "outputs": []
    },
    {
      "cell_type": "code",
      "metadata": {
        "scrolled": true,
        "id": "JMlgHLfAOT4h",
        "colab_type": "code",
        "outputId": "9da760a0-4af8-4e04-9f4e-df95d754bc2b",
        "colab": {
          "base_uri": "https://localhost:8080/",
          "height": 34
        }
      },
      "source": [
        "import pandas as pd\n",
        "import numpy as np\n",
        "import requests\n",
        "from bs4 import BeautifulSoup\n",
        "\n",
        "source = requests.get('https://en.wikipedia.org/wiki/List_of_postal_codes_of_Canada:_M').text\n",
        "soup = BeautifulSoup(source, 'html5lib')\n",
        "\n",
        "# create an empty dataframe\n",
        "columns = ['PostalCode', 'Borough', 'Neighborhood']\n",
        "toronto_data = pd.DataFrame(columns=columns)\n",
        "toronto_data\n",
        "\n",
        "table_list = soup.find_all(\"table\")[0]\n",
        "row_list = table_list.find_all(\"tr\")\n",
        "\n",
        "postal_codes_dict = {} # initialize an empty dictionary to save the data in\n",
        "\n",
        "for row in row_list:\n",
        "  td_list = row.find_all('td') \n",
        "\n",
        "  #if it header, skip\n",
        "  if (len(td_list) > 0):\n",
        "    postal_code = td_list[0].text\n",
        "    borough = td_list[1].text\n",
        "    neighborhood = td_list[2].text.replace('\\n','')\n",
        "\n",
        "    #if the borough is not assign, skip\n",
        "    if (borough != 'Not assigned'):\n",
        "\n",
        "      #if the neighborhood is not assign, copy from borough\n",
        "      if (neighborhood == 'Not assigned'):\n",
        "        neighborhood = borough\n",
        "\n",
        "      #if the postal code hasn't been found, create a new one\n",
        "      if (get_key(postal_code, postal_codes_dict) == \"key doesn't exist\"):\n",
        "        postal_codes_dict[postal_code] = {} \n",
        "        postal_codes_dict[postal_code]['borough'] = borough\n",
        "        postal_codes_dict[postal_code]['neighborhoods'] = neighborhood\n",
        "      #if the postal code has been found, concat with the old one\n",
        "      else:\n",
        "        new_neighborhoods = postal_codes_dict[postal_code]['neighborhoods'] + ', ' + neighborhood\n",
        "        postal_codes_dict[postal_code]['neighborhoods'] = new_neighborhoods\n",
        "\n",
        "# populate dataframe with data from dictionary\n",
        "for ind, postal_code in enumerate(postal_codes_dict):\n",
        "    borough = postal_codes_dict[postal_code]['borough']\n",
        "    neighborhood = postal_codes_dict[postal_code]['neighborhoods']\n",
        "    toronto_data = toronto_data.append({\"PostalCode\": postal_code, \n",
        "                                        \"Borough\": borough, \n",
        "                                        \"Neighborhood\": neighborhood},\n",
        "                                        ignore_index=True)\n",
        "\n",
        "# print number of rows of dataframe\n",
        "toronto_data.shape[0]"
      ],
      "execution_count": 0,
      "outputs": [
        {
          "output_type": "execute_result",
          "data": {
            "text/plain": [
              "103"
            ]
          },
          "metadata": {
            "tags": []
          },
          "execution_count": 52
        }
      ]
    },
    {
      "cell_type": "code",
      "metadata": {
        "id": "_4CwOajfh01r",
        "colab_type": "code",
        "outputId": "0ac223d1-12c0-47fd-9352-a22b21638025",
        "colab": {
          "base_uri": "https://localhost:8080/",
          "height": 419
        }
      },
      "source": [
        "toronto_data"
      ],
      "execution_count": 0,
      "outputs": [
        {
          "output_type": "execute_result",
          "data": {
            "text/html": [
              "<div>\n",
              "<style scoped>\n",
              "    .dataframe tbody tr th:only-of-type {\n",
              "        vertical-align: middle;\n",
              "    }\n",
              "\n",
              "    .dataframe tbody tr th {\n",
              "        vertical-align: top;\n",
              "    }\n",
              "\n",
              "    .dataframe thead th {\n",
              "        text-align: right;\n",
              "    }\n",
              "</style>\n",
              "<table border=\"1\" class=\"dataframe\">\n",
              "  <thead>\n",
              "    <tr style=\"text-align: right;\">\n",
              "      <th></th>\n",
              "      <th>PostalCode</th>\n",
              "      <th>Borough</th>\n",
              "      <th>Neighborhood</th>\n",
              "    </tr>\n",
              "  </thead>\n",
              "  <tbody>\n",
              "    <tr>\n",
              "      <th>0</th>\n",
              "      <td>M3A</td>\n",
              "      <td>North York</td>\n",
              "      <td>Parkwoods</td>\n",
              "    </tr>\n",
              "    <tr>\n",
              "      <th>1</th>\n",
              "      <td>M4A</td>\n",
              "      <td>North York</td>\n",
              "      <td>Victoria Village</td>\n",
              "    </tr>\n",
              "    <tr>\n",
              "      <th>2</th>\n",
              "      <td>M5A</td>\n",
              "      <td>Downtown Toronto</td>\n",
              "      <td>Harbourfront</td>\n",
              "    </tr>\n",
              "    <tr>\n",
              "      <th>3</th>\n",
              "      <td>M6A</td>\n",
              "      <td>North York</td>\n",
              "      <td>Lawrence Heights, Lawrence Manor</td>\n",
              "    </tr>\n",
              "    <tr>\n",
              "      <th>4</th>\n",
              "      <td>M7A</td>\n",
              "      <td>Downtown Toronto</td>\n",
              "      <td>Queen's Park</td>\n",
              "    </tr>\n",
              "    <tr>\n",
              "      <th>...</th>\n",
              "      <td>...</td>\n",
              "      <td>...</td>\n",
              "      <td>...</td>\n",
              "    </tr>\n",
              "    <tr>\n",
              "      <th>98</th>\n",
              "      <td>M8X</td>\n",
              "      <td>Etobicoke</td>\n",
              "      <td>The Kingsway, Montgomery Road, Old Mill North</td>\n",
              "    </tr>\n",
              "    <tr>\n",
              "      <th>99</th>\n",
              "      <td>M4Y</td>\n",
              "      <td>Downtown Toronto</td>\n",
              "      <td>Church and Wellesley</td>\n",
              "    </tr>\n",
              "    <tr>\n",
              "      <th>100</th>\n",
              "      <td>M7Y</td>\n",
              "      <td>East Toronto</td>\n",
              "      <td>Business Reply Mail Processing Centre 969 Eastern</td>\n",
              "    </tr>\n",
              "    <tr>\n",
              "      <th>101</th>\n",
              "      <td>M8Y</td>\n",
              "      <td>Etobicoke</td>\n",
              "      <td>Humber Bay, King's Mill Park, Kingsway Park So...</td>\n",
              "    </tr>\n",
              "    <tr>\n",
              "      <th>102</th>\n",
              "      <td>M8Z</td>\n",
              "      <td>Etobicoke</td>\n",
              "      <td>Kingsway Park South West, Mimico NW, The Queen...</td>\n",
              "    </tr>\n",
              "  </tbody>\n",
              "</table>\n",
              "<p>103 rows × 3 columns</p>\n",
              "</div>"
            ],
            "text/plain": [
              "    PostalCode  ...                                       Neighborhood\n",
              "0          M3A  ...                                          Parkwoods\n",
              "1          M4A  ...                                   Victoria Village\n",
              "2          M5A  ...                                       Harbourfront\n",
              "3          M6A  ...                   Lawrence Heights, Lawrence Manor\n",
              "4          M7A  ...                                       Queen's Park\n",
              "..         ...  ...                                                ...\n",
              "98         M8X  ...      The Kingsway, Montgomery Road, Old Mill North\n",
              "99         M4Y  ...                               Church and Wellesley\n",
              "100        M7Y  ...  Business Reply Mail Processing Centre 969 Eastern\n",
              "101        M8Y  ...  Humber Bay, King's Mill Park, Kingsway Park So...\n",
              "102        M8Z  ...  Kingsway Park South West, Mimico NW, The Queen...\n",
              "\n",
              "[103 rows x 3 columns]"
            ]
          },
          "metadata": {
            "tags": []
          },
          "execution_count": 53
        }
      ]
    },
    {
      "cell_type": "code",
      "metadata": {
        "id": "jqc7O4eRjZtV",
        "colab_type": "code",
        "colab": {
          "base_uri": "https://localhost:8080/",
          "height": 122
        },
        "outputId": "9d752db1-566c-44f8-803f-e32066f121f6"
      },
      "source": [
        "#save toronto_data to Toronto.csv\n",
        "from google.colab import drive\n",
        "\n",
        "drive.mount('drive')\n",
        "toronto_data.to_csv('Toronto.csv')\n",
        "!cp Toronto.csv \"drive/My Drive/Colab Notebooks\""
      ],
      "execution_count": 54,
      "outputs": [
        {
          "output_type": "stream",
          "text": [
            "Go to this URL in a browser: https://accounts.google.com/o/oauth2/auth?client_id=947318989803-6bn6qk8qdgf4n4g3pfee6491hc0brc4i.apps.googleusercontent.com&redirect_uri=urn%3aietf%3awg%3aoauth%3a2.0%3aoob&response_type=code&scope=email%20https%3a%2f%2fwww.googleapis.com%2fauth%2fdocs.test%20https%3a%2f%2fwww.googleapis.com%2fauth%2fdrive%20https%3a%2f%2fwww.googleapis.com%2fauth%2fdrive.photos.readonly%20https%3a%2f%2fwww.googleapis.com%2fauth%2fpeopleapi.readonly\n",
            "\n",
            "Enter your authorization code:\n",
            "··········\n",
            "Mounted at drive\n"
          ],
          "name": "stdout"
        }
      ]
    }
  ]
}